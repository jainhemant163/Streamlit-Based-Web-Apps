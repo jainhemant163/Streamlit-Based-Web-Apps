{
 "cells": [
  {
   "cell_type": "markdown",
   "id": "experimental-scenario",
   "metadata": {},
   "source": [
    "# Tensorboard Tutorial\n",
    "\n",
    "## Getting Started \n",
    "\n",
    "Attribution: [Neptune.ai](https://neptune.ai/blog/tensorboard-tutorial)\n",
    "\n",
    "### Useful Resources\n",
    "\n",
    "- https://www.tensorflow.org/tensorboard\n",
    "- https://github.com/tensorflow/tensorboard\n",
    "- https://tensorboard.dev/"
   ]
  },
  {
   "cell_type": "markdown",
   "id": "outstanding-scientist",
   "metadata": {},
   "source": [
    "\n",
    "## Key Concepts\n",
    "\n",
    "### Summary Ops: How TensorBoard gets data from TensorFlow\n",
    "\n",
    "The first step in using TensorBoard is acquiring data from your TensorFlow run.\n",
    "For this, you need\n",
    "[summary ops](https://www.tensorflow.org/api_docs/python/tf/summary).\n",
    "Summary ops are ops, just like\n",
    "[`tf.matmul`](https://www.tensorflow.org/api_docs/python/tf/linalg/matmul)\n",
    "and\n",
    "[`tf.nn.relu`](https://www.tensorflow.org/api_docs/python/tf/nn/relu),\n",
    "which means they take in tensors, produce tensors, and are evaluated from within\n",
    "a TensorFlow graph. However, summary ops have a twist: the Tensors they produce\n",
    "contain serialized protobufs, which are written to disk and sent to TensorBoard.\n",
    "To visualize the summary data in TensorBoard, you should evaluate the summary\n",
    "op, retrieve the result, and then write that result to disk using a\n",
    "summary.FileWriter. A full explanation, with examples, is in [the\n",
    "tutorial](https://www.tensorflow.org/get_started/summaries_and_tensorboard).\n",
    "\n",
    "The supported summary ops include:\n",
    "* [`tf.summary.scalar`](https://www.tensorflow.org/api_docs/python/tf/summary/scalar)\n",
    "* [`tf.summary.image`](https://www.tensorflow.org/api_docs/python/tf/summary/image)\n",
    "* [`tf.summary.audio`](https://www.tensorflow.org/api_docs/python/tf/summary/audio)\n",
    "* [`tf.summary.text`](https://www.tensorflow.org/api_docs/python/tf/summary/text)\n",
    "* [`tf.summary.histogram`](https://www.tensorflow.org/api_docs/python/tf/summary/histogram)\n",
    "\n",
    "### Tags: Giving names to data\n",
    "\n",
    "When you make a summary op, you will also give it a `tag`. The tag is basically\n",
    "a name for the data recorded by that op, and will be used to organize the data\n",
    "in the frontend. The scalar and histogram dashboards organize data by tag, and\n",
    "group the tags into folders according to a directory/like/hierarchy. If you have\n",
    "a lot of tags, we recommend grouping them with slashes.\n",
    "\n",
    "### Event Files & LogDirs: How TensorBoard loads the data\n",
    "\n",
    "`summary.FileWriters` take summary data from TensorFlow, and then write them to a\n",
    "specified directory, known as the `logdir`. Specifically, the data is written to\n",
    "an append-only record dump that will have \"tfevents\" in the filename.\n",
    "TensorBoard reads data from a full directory, and organizes it into the history\n",
    "of a single TensorFlow execution.\n",
    "\n",
    "Why does it read the whole directory, rather than an individual file? You might\n",
    "have been using\n",
    "[supervisor.py](https://github.com/tensorflow/tensorflow/blob/master/tensorflow/python/training/supervisor.py)\n",
    "to run your model, in which case if TensorFlow crashes, the supervisor will\n",
    "restart it from a checkpoint. When it restarts, it will start writing to a new\n",
    "events file, and TensorBoard will stitch the various event files together to\n",
    "produce a consistent history of what happened.\n",
    "\n",
    "### Runs: Comparing different executions of your model\n",
    "\n",
    "You may want to visually compare multiple executions of your model; for example,\n",
    "suppose you've changed the hyperparameters and want to see if it's converging\n",
    "faster. TensorBoard enables this through different \"runs\". When TensorBoard is\n",
    "passed a `logdir` at startup, it recursively walks the directory tree rooted at\n",
    "`logdir` looking for subdirectories that contain tfevents data. Every time it\n",
    "encounters such a subdirectory, it loads it as a new `run`, and the frontend\n",
    "will organize the data accordingly.\n",
    "\n",
    "For example, here is a well-organized TensorBoard log directory, with two runs,\n",
    "\"run1\" and \"run2\".\n",
    "\n",
    "```\n",
    "/some/path/mnist_experiments/\n",
    "/some/path/mnist_experiments/run1/\n",
    "/some/path/mnist_experiments/run1/events.out.tfevents.1456525581.name\n",
    "/some/path/mnist_experiments/run1/events.out.tfevents.1456525585.name\n",
    "/some/path/mnist_experiments/run2/\n",
    "/some/path/mnist_experiments/run2/events.out.tfevents.1456525385.name\n",
    "/tensorboard --logdir /some/path/mnist_experiments\n",
    "```\n",
    "\n",
    "#### Logdir & Logdir_spec (Legacy Mode)\n",
    "\n",
    "You may also pass a comma separated list of log directories, and TensorBoard\n",
    "will watch each directory. You can also assign names to individual log\n",
    "directories by putting a colon between the name and the path, as in\n",
    "\n",
    "```\n",
    "tensorboard --logdir_spec name1:/path/to/logs/1,name2:/path/to/logs/2\n",
    "```\n",
    "\n",
    "_This flag (`--logdir_spec`) is discouraged and can usually be avoided_. TensorBoard walks log directories recursively; for finer-grained control, prefer using a symlink tree. _Some features may not work when using `--logdir_spec` instead of `--logdir`._"
   ]
  },
  {
   "cell_type": "markdown",
   "id": "developmental-subdivision",
   "metadata": {},
   "source": [
    "Install these libraries - I'm using a `virtualenv` with Python 3.7"
   ]
  },
  {
   "cell_type": "code",
   "execution_count": 44,
   "id": "irish-plaintiff",
   "metadata": {},
   "outputs": [
    {
     "name": "stdout",
     "output_type": "stream",
     "text": [
      "Requirement already satisfied: tensorflow in ./.virtualenv/lib/python3.7/site-packages (2.4.1)\n",
      "Requirement already satisfied: wheel~=0.35 in ./.virtualenv/lib/python3.7/site-packages (from tensorflow) (0.36.2)\n",
      "Requirement already satisfied: typing-extensions~=3.7.4 in ./.virtualenv/lib/python3.7/site-packages (from tensorflow) (3.7.4.3)\n",
      "Requirement already satisfied: tensorflow-estimator<2.5.0,>=2.4.0 in ./.virtualenv/lib/python3.7/site-packages (from tensorflow) (2.4.0)\n",
      "Requirement already satisfied: flatbuffers~=1.12.0 in ./.virtualenv/lib/python3.7/site-packages (from tensorflow) (1.12)\n",
      "Requirement already satisfied: keras-preprocessing~=1.1.2 in ./.virtualenv/lib/python3.7/site-packages (from tensorflow) (1.1.2)\n",
      "Requirement already satisfied: gast==0.3.3 in ./.virtualenv/lib/python3.7/site-packages (from tensorflow) (0.3.3)\n",
      "Requirement already satisfied: wrapt~=1.12.1 in ./.virtualenv/lib/python3.7/site-packages (from tensorflow) (1.12.1)\n",
      "Requirement already satisfied: termcolor~=1.1.0 in ./.virtualenv/lib/python3.7/site-packages (from tensorflow) (1.1.0)\n",
      "Requirement already satisfied: astunparse~=1.6.3 in ./.virtualenv/lib/python3.7/site-packages (from tensorflow) (1.6.3)\n",
      "Requirement already satisfied: absl-py~=0.10 in ./.virtualenv/lib/python3.7/site-packages (from tensorflow) (0.12.0)\n",
      "Requirement already satisfied: h5py~=2.10.0 in ./.virtualenv/lib/python3.7/site-packages (from tensorflow) (2.10.0)\n",
      "Requirement already satisfied: tensorboard~=2.4 in ./.virtualenv/lib/python3.7/site-packages (from tensorflow) (2.4.1)\n",
      "Requirement already satisfied: google-pasta~=0.2 in ./.virtualenv/lib/python3.7/site-packages (from tensorflow) (0.2.0)\n",
      "Requirement already satisfied: six~=1.15.0 in ./.virtualenv/lib/python3.7/site-packages (from tensorflow) (1.15.0)\n",
      "Requirement already satisfied: grpcio~=1.32.0 in ./.virtualenv/lib/python3.7/site-packages (from tensorflow) (1.32.0)\n",
      "Requirement already satisfied: protobuf>=3.9.2 in ./.virtualenv/lib/python3.7/site-packages (from tensorflow) (3.15.6)\n",
      "Requirement already satisfied: opt-einsum~=3.3.0 in ./.virtualenv/lib/python3.7/site-packages (from tensorflow) (3.3.0)\n",
      "Requirement already satisfied: numpy~=1.19.2 in ./.virtualenv/lib/python3.7/site-packages (from tensorflow) (1.19.5)\n",
      "Requirement already satisfied: werkzeug>=0.11.15 in ./.virtualenv/lib/python3.7/site-packages (from tensorboard~=2.4->tensorflow) (1.0.1)\n",
      "Requirement already satisfied: setuptools>=41.0.0 in ./.virtualenv/lib/python3.7/site-packages (from tensorboard~=2.4->tensorflow) (54.1.2)\n",
      "Requirement already satisfied: markdown>=2.6.8 in ./.virtualenv/lib/python3.7/site-packages (from tensorboard~=2.4->tensorflow) (3.3.4)\n",
      "Requirement already satisfied: tensorboard-plugin-wit>=1.6.0 in ./.virtualenv/lib/python3.7/site-packages (from tensorboard~=2.4->tensorflow) (1.8.0)\n",
      "Requirement already satisfied: requests<3,>=2.21.0 in ./.virtualenv/lib/python3.7/site-packages (from tensorboard~=2.4->tensorflow) (2.25.1)\n",
      "Requirement already satisfied: google-auth-oauthlib<0.5,>=0.4.1 in ./.virtualenv/lib/python3.7/site-packages (from tensorboard~=2.4->tensorflow) (0.4.3)\n",
      "Requirement already satisfied: google-auth<2,>=1.6.3 in ./.virtualenv/lib/python3.7/site-packages (from tensorboard~=2.4->tensorflow) (1.27.1)\n",
      "Requirement already satisfied: rsa<5,>=3.1.4 in ./.virtualenv/lib/python3.7/site-packages (from google-auth<2,>=1.6.3->tensorboard~=2.4->tensorflow) (4.7.2)\n",
      "Requirement already satisfied: cachetools<5.0,>=2.0.0 in ./.virtualenv/lib/python3.7/site-packages (from google-auth<2,>=1.6.3->tensorboard~=2.4->tensorflow) (4.2.1)\n",
      "Requirement already satisfied: pyasn1-modules>=0.2.1 in ./.virtualenv/lib/python3.7/site-packages (from google-auth<2,>=1.6.3->tensorboard~=2.4->tensorflow) (0.2.8)\n",
      "Requirement already satisfied: requests-oauthlib>=0.7.0 in ./.virtualenv/lib/python3.7/site-packages (from google-auth-oauthlib<0.5,>=0.4.1->tensorboard~=2.4->tensorflow) (1.3.0)\n",
      "Requirement already satisfied: importlib-metadata in ./.virtualenv/lib/python3.7/site-packages (from markdown>=2.6.8->tensorboard~=2.4->tensorflow) (3.7.3)\n",
      "Requirement already satisfied: pyasn1<0.5.0,>=0.4.6 in ./.virtualenv/lib/python3.7/site-packages (from pyasn1-modules>=0.2.1->google-auth<2,>=1.6.3->tensorboard~=2.4->tensorflow) (0.4.8)\n",
      "Requirement already satisfied: idna<3,>=2.5 in ./.virtualenv/lib/python3.7/site-packages (from requests<3,>=2.21.0->tensorboard~=2.4->tensorflow) (2.10)\n",
      "Requirement already satisfied: certifi>=2017.4.17 in ./.virtualenv/lib/python3.7/site-packages (from requests<3,>=2.21.0->tensorboard~=2.4->tensorflow) (2020.12.5)\n",
      "Requirement already satisfied: chardet<5,>=3.0.2 in ./.virtualenv/lib/python3.7/site-packages (from requests<3,>=2.21.0->tensorboard~=2.4->tensorflow) (4.0.0)\n",
      "Requirement already satisfied: urllib3<1.27,>=1.21.1 in ./.virtualenv/lib/python3.7/site-packages (from requests<3,>=2.21.0->tensorboard~=2.4->tensorflow) (1.26.4)\n",
      "Requirement already satisfied: oauthlib>=3.0.0 in ./.virtualenv/lib/python3.7/site-packages (from requests-oauthlib>=0.7.0->google-auth-oauthlib<0.5,>=0.4.1->tensorboard~=2.4->tensorflow) (3.1.0)\n",
      "Requirement already satisfied: zipp>=0.5 in ./.virtualenv/lib/python3.7/site-packages (from importlib-metadata->markdown>=2.6.8->tensorboard~=2.4->tensorflow) (3.4.1)\n",
      "Requirement already satisfied: matplotlib in ./.virtualenv/lib/python3.7/site-packages (3.3.4)\n",
      "Requirement already satisfied: pillow>=6.2.0 in ./.virtualenv/lib/python3.7/site-packages (from matplotlib) (8.1.2)\n",
      "Requirement already satisfied: pyparsing!=2.0.4,!=2.1.2,!=2.1.6,>=2.0.3 in ./.virtualenv/lib/python3.7/site-packages (from matplotlib) (2.4.7)\n",
      "Requirement already satisfied: numpy>=1.15 in ./.virtualenv/lib/python3.7/site-packages (from matplotlib) (1.19.5)\n",
      "Requirement already satisfied: cycler>=0.10 in ./.virtualenv/lib/python3.7/site-packages (from matplotlib) (0.10.0)\n",
      "Requirement already satisfied: kiwisolver>=1.0.1 in ./.virtualenv/lib/python3.7/site-packages (from matplotlib) (1.3.1)\n",
      "Requirement already satisfied: python-dateutil>=2.1 in ./.virtualenv/lib/python3.7/site-packages (from matplotlib) (2.8.1)\n",
      "Requirement already satisfied: six in ./.virtualenv/lib/python3.7/site-packages (from cycler>=0.10->matplotlib) (1.15.0)\n",
      "Requirement already satisfied: tensorboard in ./.virtualenv/lib/python3.7/site-packages (2.4.1)\n",
      "Requirement already satisfied: six>=1.10.0 in ./.virtualenv/lib/python3.7/site-packages (from tensorboard) (1.15.0)\n",
      "Requirement already satisfied: requests<3,>=2.21.0 in ./.virtualenv/lib/python3.7/site-packages (from tensorboard) (2.25.1)\n",
      "Requirement already satisfied: tensorboard-plugin-wit>=1.6.0 in ./.virtualenv/lib/python3.7/site-packages (from tensorboard) (1.8.0)\n",
      "Requirement already satisfied: protobuf>=3.6.0 in ./.virtualenv/lib/python3.7/site-packages (from tensorboard) (3.15.6)\n",
      "Requirement already satisfied: absl-py>=0.4 in ./.virtualenv/lib/python3.7/site-packages (from tensorboard) (0.12.0)\n",
      "Requirement already satisfied: werkzeug>=0.11.15 in ./.virtualenv/lib/python3.7/site-packages (from tensorboard) (1.0.1)\n",
      "Requirement already satisfied: google-auth<2,>=1.6.3 in ./.virtualenv/lib/python3.7/site-packages (from tensorboard) (1.27.1)\n",
      "Requirement already satisfied: markdown>=2.6.8 in ./.virtualenv/lib/python3.7/site-packages (from tensorboard) (3.3.4)\n",
      "Requirement already satisfied: google-auth-oauthlib<0.5,>=0.4.1 in ./.virtualenv/lib/python3.7/site-packages (from tensorboard) (0.4.3)\n",
      "Requirement already satisfied: setuptools>=41.0.0 in ./.virtualenv/lib/python3.7/site-packages (from tensorboard) (54.1.2)\n",
      "Requirement already satisfied: grpcio>=1.24.3 in ./.virtualenv/lib/python3.7/site-packages (from tensorboard) (1.32.0)\n",
      "Requirement already satisfied: numpy>=1.12.0 in ./.virtualenv/lib/python3.7/site-packages (from tensorboard) (1.19.5)\n",
      "Requirement already satisfied: wheel>=0.26 in ./.virtualenv/lib/python3.7/site-packages (from tensorboard) (0.36.2)\n",
      "Requirement already satisfied: cachetools<5.0,>=2.0.0 in ./.virtualenv/lib/python3.7/site-packages (from google-auth<2,>=1.6.3->tensorboard) (4.2.1)\n",
      "Requirement already satisfied: pyasn1-modules>=0.2.1 in ./.virtualenv/lib/python3.7/site-packages (from google-auth<2,>=1.6.3->tensorboard) (0.2.8)\n",
      "Requirement already satisfied: rsa<5,>=3.1.4 in ./.virtualenv/lib/python3.7/site-packages (from google-auth<2,>=1.6.3->tensorboard) (4.7.2)\n"
     ]
    },
    {
     "name": "stdout",
     "output_type": "stream",
     "text": [
      "Requirement already satisfied: requests-oauthlib>=0.7.0 in ./.virtualenv/lib/python3.7/site-packages (from google-auth-oauthlib<0.5,>=0.4.1->tensorboard) (1.3.0)\n",
      "Requirement already satisfied: importlib-metadata in ./.virtualenv/lib/python3.7/site-packages (from markdown>=2.6.8->tensorboard) (3.7.3)\n",
      "Requirement already satisfied: pyasn1<0.5.0,>=0.4.6 in ./.virtualenv/lib/python3.7/site-packages (from pyasn1-modules>=0.2.1->google-auth<2,>=1.6.3->tensorboard) (0.4.8)\n",
      "Requirement already satisfied: idna<3,>=2.5 in ./.virtualenv/lib/python3.7/site-packages (from requests<3,>=2.21.0->tensorboard) (2.10)\n",
      "Requirement already satisfied: chardet<5,>=3.0.2 in ./.virtualenv/lib/python3.7/site-packages (from requests<3,>=2.21.0->tensorboard) (4.0.0)\n",
      "Requirement already satisfied: certifi>=2017.4.17 in ./.virtualenv/lib/python3.7/site-packages (from requests<3,>=2.21.0->tensorboard) (2020.12.5)\n",
      "Requirement already satisfied: urllib3<1.27,>=1.21.1 in ./.virtualenv/lib/python3.7/site-packages (from requests<3,>=2.21.0->tensorboard) (1.26.4)\n",
      "Requirement already satisfied: oauthlib>=3.0.0 in ./.virtualenv/lib/python3.7/site-packages (from requests-oauthlib>=0.7.0->google-auth-oauthlib<0.5,>=0.4.1->tensorboard) (3.1.0)\n",
      "Requirement already satisfied: zipp>=0.5 in ./.virtualenv/lib/python3.7/site-packages (from importlib-metadata->markdown>=2.6.8->tensorboard) (3.4.1)\n",
      "Requirement already satisfied: typing-extensions>=3.6.4 in ./.virtualenv/lib/python3.7/site-packages (from importlib-metadata->markdown>=2.6.8->tensorboard) (3.7.4.3)\n",
      "Requirement already satisfied: sklearn in ./.virtualenv/lib/python3.7/site-packages (0.0)\n",
      "Requirement already satisfied: scikit-learn in ./.virtualenv/lib/python3.7/site-packages (from sklearn) (0.24.1)\n",
      "Requirement already satisfied: threadpoolctl>=2.0.0 in ./.virtualenv/lib/python3.7/site-packages (from scikit-learn->sklearn) (2.1.0)\n",
      "Requirement already satisfied: joblib>=0.11 in ./.virtualenv/lib/python3.7/site-packages (from scikit-learn->sklearn) (1.0.1)\n",
      "Requirement already satisfied: numpy>=1.13.3 in ./.virtualenv/lib/python3.7/site-packages (from scikit-learn->sklearn) (1.19.5)\n",
      "Requirement already satisfied: scipy>=0.19.1 in ./.virtualenv/lib/python3.7/site-packages (from scikit-learn->sklearn) (1.6.1)\n"
     ]
    }
   ],
   "source": [
    "!pip install tensorflow\n",
    "!pip install matplotlib\n",
    "!pip install tensorboard\n",
    "!pip install sklearn"
   ]
  },
  {
   "cell_type": "markdown",
   "id": "signal-priest",
   "metadata": {},
   "source": [
    "With TensorBoard installed, you can now load it into your Notebook. Note that you can use it in a Jupyter Notebook or Google’s Colab. "
   ]
  },
  {
   "cell_type": "code",
   "execution_count": 38,
   "id": "biblical-salad",
   "metadata": {},
   "outputs": [
    {
     "name": "stdout",
     "output_type": "stream",
     "text": [
      "The tensorboard extension is already loaded. To reload it, use:\n",
      "  %reload_ext tensorboard\n"
     ]
    }
   ],
   "source": [
    "%load_ext tensorboard"
   ]
  },
  {
   "cell_type": "markdown",
   "id": "ahead-tampa",
   "metadata": {},
   "source": [
    "Once that is done you have to set a log directory. This is where TensorBoard will store all the logs. It will read from these logs in order to display the various visualizations."
   ]
  },
  {
   "cell_type": "code",
   "execution_count": 2,
   "id": "stretch-iraqi",
   "metadata": {},
   "outputs": [],
   "source": [
    "log_folder = 'logs'"
   ]
  },
  {
   "cell_type": "code",
   "execution_count": 3,
   "id": "italic-canada",
   "metadata": {},
   "outputs": [],
   "source": [
    "import datetime\n",
    "log_folder = \"logs/fit/\" + datetime.datetime.now().strftime(\"%Y%m%d-%H%M%S\")"
   ]
  },
  {
   "cell_type": "markdown",
   "id": "australian-express",
   "metadata": {},
   "source": [
    "### How to run TensorBoard\n",
    "Running Tensorboard involves just one line of code. In this section you’ll see how to do this. \n",
    "\n",
    "Let’s now walk through an example where you will use TensorBoard to visualize model metrics. For that purpose, you need to build a simple image classification model."
   ]
  },
  {
   "cell_type": "code",
   "execution_count": 6,
   "id": "acute-bulgaria",
   "metadata": {},
   "outputs": [
    {
     "name": "stdout",
     "output_type": "stream",
     "text": [
      "Downloading data from https://storage.googleapis.com/tensorflow/tf-keras-datasets/mnist.npz\n",
      "11493376/11490434 [==============================] - 1s 0us/step\n"
     ]
    }
   ],
   "source": [
    "import tensorflow as tf\n",
    "\n",
    "mnist = tf.keras.datasets.mnist\n",
    "(X_train, y_train), (X_test, y_test) = mnist.load_data()\n",
    "X_train, X_test = X_train / 255.0, X_test / 255.0\n",
    "\n",
    "model = tf.keras.models.Sequential([\n",
    "   tf.keras.layers.Flatten(input_shape=(28, 28)),\n",
    "   tf.keras.layers.Dense(512, activation='relu'),\n",
    "   tf.keras.layers.Dropout(0.2),\n",
    "   tf.keras.layers.Dense(10, activation='softmax')])\n",
    "\n",
    "model.compile(optimizer='sgd', \n",
    "   loss='sparse_categorical_crossentropy',\n",
    "   metrics=['accuracy'])"
   ]
  },
  {
   "cell_type": "markdown",
   "id": "pleasant-employee",
   "metadata": {},
   "source": [
    "Next, load in the TensorBoard notebook extension and create a variable pointing to the log folder. \n",
    "\n"
   ]
  },
  {
   "cell_type": "code",
   "execution_count": 7,
   "id": "sustained-extraction",
   "metadata": {},
   "outputs": [
    {
     "name": "stdout",
     "output_type": "stream",
     "text": [
      "The tensorboard extension is already loaded. To reload it, use:\n",
      "  %reload_ext tensorboard\n"
     ]
    }
   ],
   "source": [
    "%load_ext tensorboard\n",
    "log_folder = 'logs'"
   ]
  },
  {
   "cell_type": "markdown",
   "id": "atmospheric-stanley",
   "metadata": {},
   "source": [
    "### Tensorflow Callback\n",
    "\n",
    "The next step is to specify the TensorBoard callback during the model’s fit method. In order to do that you first have to import the TensorBoard callback.\n",
    "\n",
    "This callback is responsible for logging events such as Activation Histograms, Metrics Summary Plots, Profiling and Training Graph Visualizations. "
   ]
  },
  {
   "cell_type": "code",
   "execution_count": 15,
   "id": "empty-suite",
   "metadata": {},
   "outputs": [],
   "source": [
    "from tensorflow.keras.callbacks import TensorBoard"
   ]
  },
  {
   "cell_type": "code",
   "execution_count": 9,
   "id": "electrical-patio",
   "metadata": {},
   "outputs": [],
   "source": [
    "callbacks = [TensorBoard(log_dir=log_folder,\n",
    "                         histogram_freq=1,\n",
    "                         write_graph=True,\n",
    "                         write_images=True,\n",
    "                         update_freq='epoch',\n",
    "                         profile_batch=2,\n",
    "                         embeddings_freq=1)]"
   ]
  },
  {
   "cell_type": "markdown",
   "id": "patient-chair",
   "metadata": {},
   "source": [
    "With that in place, you can now create the TensorBoard callback and specify the log directory using log_dir. The TensorBoard callback also takes other parameters:\n",
    "\n",
    "- `histogram_freq` is the frequency at which to compute activation and weight histograms for layers of the model. Setting this to 0 means that histograms will not be computed. In order for this to work you have to set the validation data or the validation split. \n",
    "- `write_graph` dictates if the graph will be visualized in TensorBoard \n",
    "- `write_images` when set to true, model weights are visualized as an image in TensorBoard\n",
    "- `update_freq` determines how losses and metrics are written to TensorBoard. When set to an integer, say 100, losses and metrics are logged every 100 batches. When set to batch the losses and metrics are set after every batch. When set to epoch they are written after every epoch\n",
    "- `profile_batch` determines which batches will be profiled. By default, the second batch is profiled. You can also set, for example from 5 and to 10, to profile batches 5 to 10, i.e profile_batch=’5,10′ . Setting profile_batch to 0 disables profiling.\n",
    "- `embeddings_freq` the frequency at which the embedding layers will be visualized. Setting this to zero means that the embeddings will not be visualized"
   ]
  },
  {
   "cell_type": "markdown",
   "id": "honest-palestinian",
   "metadata": {},
   "source": [
    "The next item is to fit the model and pass in the callback."
   ]
  },
  {
   "cell_type": "code",
   "execution_count": 10,
   "id": "adaptive-functionality",
   "metadata": {},
   "outputs": [
    {
     "name": "stdout",
     "output_type": "stream",
     "text": [
      "Epoch 1/10\n",
      "1500/1500 [==============================] - 5s 3ms/step - loss: 1.1236 - accuracy: 0.7029 - val_loss: 0.3686 - val_accuracy: 0.9004\n",
      "Epoch 2/10\n",
      "1500/1500 [==============================] - 4s 3ms/step - loss: 0.3912 - accuracy: 0.8911 - val_loss: 0.3010 - val_accuracy: 0.9176\n",
      "Epoch 3/10\n",
      "1500/1500 [==============================] - 4s 3ms/step - loss: 0.3302 - accuracy: 0.9071 - val_loss: 0.2656 - val_accuracy: 0.9262\n",
      "Epoch 4/10\n",
      "1500/1500 [==============================] - 4s 3ms/step - loss: 0.2859 - accuracy: 0.9198 - val_loss: 0.2404 - val_accuracy: 0.9330\n",
      "Epoch 5/10\n",
      "1500/1500 [==============================] - 4s 3ms/step - loss: 0.2538 - accuracy: 0.9276 - val_loss: 0.2225 - val_accuracy: 0.9382\n",
      "Epoch 6/10\n",
      "1500/1500 [==============================] - 4s 2ms/step - loss: 0.2404 - accuracy: 0.9318 - val_loss: 0.2069 - val_accuracy: 0.9418\n",
      "Epoch 7/10\n",
      "1500/1500 [==============================] - 5s 3ms/step - loss: 0.2221 - accuracy: 0.9371 - val_loss: 0.1940 - val_accuracy: 0.9479\n",
      "Epoch 8/10\n",
      "1500/1500 [==============================] - 4s 3ms/step - loss: 0.2032 - accuracy: 0.9423 - val_loss: 0.1832 - val_accuracy: 0.9504\n",
      "Epoch 9/10\n",
      "1500/1500 [==============================] - 4s 3ms/step - loss: 0.1905 - accuracy: 0.9462 - val_loss: 0.1736 - val_accuracy: 0.9534\n",
      "Epoch 10/10\n",
      "1500/1500 [==============================] - 5s 3ms/step - loss: 0.1821 - accuracy: 0.9501 - val_loss: 0.1649 - val_accuracy: 0.9548\n"
     ]
    },
    {
     "data": {
      "text/plain": [
       "<tensorflow.python.keras.callbacks.History at 0x7f90c5509c10>"
      ]
     },
     "execution_count": 10,
     "metadata": {},
     "output_type": "execute_result"
    }
   ],
   "source": [
    "model.fit(X_train, y_train,\n",
    "          epochs=10,\n",
    "          validation_split=0.2,\n",
    "          callbacks=callbacks)"
   ]
  },
  {
   "cell_type": "markdown",
   "id": "inner-aggregate",
   "metadata": {},
   "source": [
    "Open Tensorboard by visitng http://localhost:6006"
   ]
  },
  {
   "cell_type": "code",
   "execution_count": 14,
   "id": "musical-checklist",
   "metadata": {},
   "outputs": [
    {
     "data": {
      "text/html": [
       "\n",
       "      <iframe id=\"tensorboard-frame-602bd97a933165d8\" width=\"100%\" height=\"800\" frameborder=\"0\">\n",
       "      </iframe>\n",
       "      <script>\n",
       "        (function() {\n",
       "          const frame = document.getElementById(\"tensorboard-frame-602bd97a933165d8\");\n",
       "          const url = new URL(\"/\", window.location);\n",
       "          const port = 6006;\n",
       "          if (port) {\n",
       "            url.port = port;\n",
       "          }\n",
       "          frame.src = url;\n",
       "        })();\n",
       "      </script>\n",
       "    "
      ],
      "text/plain": [
       "<IPython.core.display.HTML object>"
      ]
     },
     "metadata": {},
     "output_type": "display_data"
    }
   ],
   "source": [
    "%tensorboard --logdir={'/Users/dileepholla/PycharmProjects/tensorboard/logs'}"
   ]
  },
  {
   "cell_type": "markdown",
   "id": "aware-orbit",
   "metadata": {},
   "source": [
    "#### TensorBoard scalars\n",
    "The Scalars tab shows changes in the loss and metrics over the epochs. It can be used to track other scalar values such as learning rate and training speed.\n",
    "\n",
    "#### TensorBoard images\n",
    "This dashboard has images that show the weights. Adjusting the slider displays the weights at various epochs. \n",
    "\n",
    "#### TensorBoard graphs\n",
    "This tab shows your model’s layers. You can use this to check if the architecture of the model looks as intended. \n",
    "\n",
    "#### TensorBoard distributions\n",
    "The distribution tab shows the distribution of tensors. For example in the dense layer below, you can see the distribution of the weights and biases over each epoch.\n",
    "\n",
    "#### TensorBoard histograms\n",
    "The Histograms show the distribution of tensors over time. For example, looking at dense_1 below, you can see the distribution of the biases over each epoch. "
   ]
  },
  {
   "cell_type": "markdown",
   "id": "automatic-premium",
   "metadata": {},
   "source": [
    "### Plot training examples with TensorBoard\n",
    "\n",
    "You can use TensorFlow Image Summary API to visualize training images. This is especially useful when working with image data like in this case.\n",
    "\n",
    "Now, create a new log directory for the images as shown below & create a file writer pointing to the directory"
   ]
  },
  {
   "cell_type": "code",
   "execution_count": 18,
   "id": "clean-parts",
   "metadata": {},
   "outputs": [],
   "source": [
    "logdir = \"logs/train_data/\"\n",
    "file_writer = tf.summary.create_file_writer(logdir)"
   ]
  },
  {
   "cell_type": "markdown",
   "id": "controversial-characteristic",
   "metadata": {},
   "source": [
    "At the beginning of this article (in the “How to run TensorBoard” section), you specified that the image shape was 28 by 28. It is important information when reshaping the images before writing them to TensorBoard. You also need to specify the channel to be 1 because the images are grayscale. Afterward, you use the file_write to write the images to TensorBoard. \n",
    "\n",
    "In this example, the images at index 10 to 30 will be written to TensorBoard. "
   ]
  },
  {
   "cell_type": "code",
   "execution_count": 19,
   "id": "delayed-darwin",
   "metadata": {},
   "outputs": [],
   "source": [
    "import numpy as np\n",
    "\n",
    "with file_writer.as_default():\n",
    "    images = np.reshape(X_train[10:30], (-1, 28, 28, 1))\n",
    "    tf.summary.image(\"20 Digits\", images, max_outputs=25, step=0)"
   ]
  },
  {
   "cell_type": "markdown",
   "id": "characteristic-arbor",
   "metadata": {},
   "source": [
    "Apart from visualizing image tensors, you can also visualize actual images in TensorBoard. In order to illustrate that,  you need to convert the MNIST tensors to images using Matplotlib. After that, you need to use `tf.summary.image` to plot the images in Tensorboard. \n",
    "\n",
    "Start by clearing the logs, alternatively you can use timestamped log folders. After that specify the log directory and create a `tf.summary.create_file_writer` that will be used to write the images to TensorBoard"
   ]
  },
  {
   "cell_type": "code",
   "execution_count": 20,
   "id": "bigger-folder",
   "metadata": {},
   "outputs": [],
   "source": [
    "!rm -rf logs"
   ]
  },
  {
   "cell_type": "code",
   "execution_count": 24,
   "id": "acoustic-tackle",
   "metadata": {},
   "outputs": [],
   "source": [
    "import io\n",
    "import matplotlib.pyplot as plt\n",
    "\n",
    "class_names = ['Zero','One','Two','Three','Four','Five','Six','Seven','Eight','Nine']\n",
    "logdir = \"logs/plots/\"\n",
    "file_writer = tf.summary.create_file_writer(logdir)"
   ]
  },
  {
   "cell_type": "markdown",
   "id": "gorgeous-cathedral",
   "metadata": {},
   "source": [
    "Next, create a grid that will hold the images. In this case, the grid will hold 36 digits.\n",
    "\n"
   ]
  },
  {
   "cell_type": "code",
   "execution_count": 25,
   "id": "turned-romantic",
   "metadata": {},
   "outputs": [
    {
     "data": {
      "image/png": "[encoded data removed]",
      "text/plain": [
       "<Figure size 864x576 with 36 Axes>"
      ]
     },
     "metadata": {},
     "output_type": "display_data"
    }
   ],
   "source": [
    "def image_grid():  \n",
    "    figure = plt.figure(figsize=(12,8))\n",
    "\n",
    "    for i in range(36):    \n",
    "        plt.subplot(6, 6, i + 1)\n",
    "        plt.xlabel(class_names[y_train[i]])\n",
    "        plt.xticks([])\n",
    "        plt.yticks([])\n",
    "        plt.grid(False)\n",
    "        plt.imshow(X_train[i], cmap=plt.cm.coolwarm)\n",
    "\n",
    "    return figure\n",
    "\n",
    "figure = image_grid()"
   ]
  },
  {
   "cell_type": "markdown",
   "id": "resistant-freeware",
   "metadata": {},
   "source": [
    "Now convert the digits into a single image to visualize it in the TensorBoard.\n",
    "\n"
   ]
  },
  {
   "cell_type": "code",
   "execution_count": 26,
   "id": "amateur-discretion",
   "metadata": {},
   "outputs": [],
   "source": [
    "def plot_to_image(figure):    \n",
    "    buf = io.BytesIO()\n",
    "    plt.savefig(buf, format='png')\n",
    "    plt.close(figure)\n",
    "    buf.seek(0)\n",
    "\n",
    "    digit = tf.image.decode_png(buf.getvalue(), channels=4)\n",
    "    digit = tf.expand_dims(digit, 0)\n",
    "\n",
    "    return digit"
   ]
  },
  {
   "cell_type": "markdown",
   "id": "single-chrome",
   "metadata": {},
   "source": [
    "The next step is to use the writer and `plot_to_image` to display the images on TensorBoard.\n",
    "\n"
   ]
  },
  {
   "cell_type": "code",
   "execution_count": 27,
   "id": "dense-convertible",
   "metadata": {},
   "outputs": [
    {
     "data": {
      "text/plain": [
       "<Figure size 432x288 with 0 Axes>"
      ]
     },
     "metadata": {},
     "output_type": "display_data"
    }
   ],
   "source": [
    "with file_writer.as_default():    \n",
    "    tf.summary.image(\"MNIST Digits\", plot_to_image(figure), step=0)"
   ]
  },
  {
   "cell_type": "code",
   "execution_count": 30,
   "id": "integral-stand",
   "metadata": {},
   "outputs": [
    {
     "data": {
      "text/plain": [
       "Reusing TensorBoard on port 6007 (pid 86671), started 0:01:43 ago. (Use '!kill 86671' to kill it.)"
      ]
     },
     "metadata": {},
     "output_type": "display_data"
    },
    {
     "data": {
      "text/html": [
       "\n",
       "      <iframe id=\"tensorboard-frame-fe0d0865a8150d36\" width=\"100%\" height=\"800\" frameborder=\"0\">\n",
       "      </iframe>\n",
       "      <script>\n",
       "        (function() {\n",
       "          const frame = document.getElementById(\"tensorboard-frame-fe0d0865a8150d36\");\n",
       "          const url = new URL(\"/\", window.location);\n",
       "          const port = 6007;\n",
       "          if (port) {\n",
       "            url.port = port;\n",
       "          }\n",
       "          frame.src = url;\n",
       "        })();\n",
       "      </script>\n",
       "    "
      ],
      "text/plain": [
       "<IPython.core.display.HTML object>"
      ]
     },
     "metadata": {},
     "output_type": "display_data"
    }
   ],
   "source": [
    "%tensorboard --logdir logs/plots"
   ]
  },
  {
   "cell_type": "markdown",
   "id": "effective-navigator",
   "metadata": {},
   "source": [
    "## Log confusion matrix to TensorBoard\n",
    "Using the same example, you can log the confusion matrix for all epochs. First, define a function that will return a Matplotlib figure holding the confusion matrix. "
   ]
  },
  {
   "cell_type": "code",
   "execution_count": 31,
   "id": "funky-realtor",
   "metadata": {},
   "outputs": [],
   "source": [
    "import itertools \n",
    "\n",
    "def plot_confusion_matrix(cm, class_names): \n",
    "    figure = plt.figure(figsize=(8, 8)) \n",
    "    plt.imshow(cm, interpolation='nearest', cmap=plt.cm.Accent) \n",
    "    plt.title(\"Confusion matrix\") \n",
    "    plt.colorbar() \n",
    "    tick_marks = np.arange(len(class_names)) \n",
    "    plt.xticks(tick_marks, class_names, rotation=45) \n",
    "    plt.yticks(tick_marks, class_names)\n",
    "\n",
    "    cm = np.around(cm.astype('float') / cm.sum(axis=1)[:, np.newaxis], decimals=2)  \n",
    "    threshold = cm.max() / 2. \n",
    "\n",
    "    for i, j in itertools.product(range(cm.shape[0]), range(cm.shape[1])):   \n",
    "        color = \"white\" if cm[i, j] > threshold else \"black\"   \n",
    "        plt.text(j, i, cm[i, j], horizontalalignment=\"center\", color=color)  \n",
    "    \n",
    "    plt.tight_layout() \n",
    "    plt.ylabel('True label') \n",
    "    plt.xlabel('Predicted label') \n",
    "\n",
    "    return figure"
   ]
  },
  {
   "cell_type": "markdown",
   "id": "ordinary-underwear",
   "metadata": {},
   "source": [
    "Next, clear the previous logs, define the log directory for the confusion matrix, and create a writer variable for writing into the log folder. "
   ]
  },
  {
   "cell_type": "code",
   "execution_count": 33,
   "id": "popular-malaysia",
   "metadata": {},
   "outputs": [],
   "source": [
    "!rm -rf logs\n",
    "\n",
    "logdir = \"logs\"\n",
    "file_writer_cm = tf.summary.create_file_writer(logdir)"
   ]
  },
  {
   "cell_type": "markdown",
   "id": "infinite-syntax",
   "metadata": {},
   "source": [
    "The step that follows this is to create a function that will make predictions from the model and log the confusion matrix as an image. \n",
    "\n",
    "After that use the `file_writer_cm to write` the confusion matrix to the log directory. "
   ]
  },
  {
   "cell_type": "code",
   "execution_count": 39,
   "id": "coordinated-guitar",
   "metadata": {},
   "outputs": [],
   "source": [
    "from tensorflow import keras\n",
    "from sklearn import metrics\n",
    "\n",
    "def log_confusion_matrix(epoch, logs):\n",
    "    predictions = model.predict(X_test)\n",
    "    predictions = np.argmax(predictions, axis=1)\n",
    "\n",
    "    cm = metrics.confusion_matrix(y_test, predictions)\n",
    "    figure = plot_confusion_matrix(cm, class_names=class_names)\n",
    "    cm_image = plot_to_image(figure)\n",
    "    \n",
    "    with file_writer_cm.as_default():\n",
    "        tf.summary.image(\"Confusion Matrix\", cm_image, step=epoch)"
   ]
  },
  {
   "cell_type": "markdown",
   "id": "rental-yemen",
   "metadata": {},
   "source": [
    "This will be followed by the definition of the TensorBoard callback and the `LambdaCallback`. \n",
    "\n",
    "The `LambdaCallback` will log the confusion matrix on every epoch. Finally fit the model using these two callbacks. \n",
    "\n",
    "Since you’ve already fitted the model before, it would be advisable to restart your runtime and ensure that you are fitting the model just once."
   ]
  },
  {
   "cell_type": "code",
   "execution_count": 40,
   "id": "solid-insider",
   "metadata": {},
   "outputs": [
    {
     "name": "stdout",
     "output_type": "stream",
     "text": [
      "Epoch 1/10\n",
      "1500/1500 [==============================] - 5s 3ms/step - loss: 0.1696 - accuracy: 0.9515 - val_loss: 0.1589 - val_accuracy: 0.9565\n",
      "Epoch 2/10\n",
      "1500/1500 [==============================] - 4s 2ms/step - loss: 0.1621 - accuracy: 0.9542 - val_loss: 0.1515 - val_accuracy: 0.9587\n",
      "Epoch 3/10\n",
      "1500/1500 [==============================] - 4s 2ms/step - loss: 0.1543 - accuracy: 0.9565 - val_loss: 0.1468 - val_accuracy: 0.9592\n",
      "Epoch 4/10\n",
      "1500/1500 [==============================] - 4s 3ms/step - loss: 0.1463 - accuracy: 0.9584 - val_loss: 0.1405 - val_accuracy: 0.9614\n",
      "Epoch 5/10\n",
      "1500/1500 [==============================] - 4s 2ms/step - loss: 0.1395 - accuracy: 0.9612 - val_loss: 0.1355 - val_accuracy: 0.9625\n",
      "Epoch 6/10\n",
      "1500/1500 [==============================] - 4s 3ms/step - loss: 0.1347 - accuracy: 0.9626 - val_loss: 0.1319 - val_accuracy: 0.9628\n",
      "Epoch 7/10\n",
      "1500/1500 [==============================] - 4s 2ms/step - loss: 0.1295 - accuracy: 0.9636 - val_loss: 0.1283 - val_accuracy: 0.9645\n",
      "Epoch 8/10\n",
      "1500/1500 [==============================] - 4s 2ms/step - loss: 0.1248 - accuracy: 0.9648 - val_loss: 0.1248 - val_accuracy: 0.9651\n",
      "Epoch 9/10\n",
      "1500/1500 [==============================] - 5s 3ms/step - loss: 0.1191 - accuracy: 0.9666 - val_loss: 0.1211 - val_accuracy: 0.9657\n",
      "Epoch 10/10\n",
      "1500/1500 [==============================] - 4s 2ms/step - loss: 0.1154 - accuracy: 0.9686 - val_loss: 0.1182 - val_accuracy: 0.9669\n"
     ]
    },
    {
     "data": {
      "text/plain": [
       "<tensorflow.python.keras.callbacks.History at 0x7f90bfd78350>"
      ]
     },
     "execution_count": 40,
     "metadata": {},
     "output_type": "execute_result"
    }
   ],
   "source": [
    "callbacks = [\n",
    "   TensorBoard(log_dir=log_folder, \n",
    "               histogram_freq=1, \n",
    "               write_graph=True,\n",
    "               write_images=True,\n",
    "               update_freq='epoch',\n",
    "               profile_batch=2,\n",
    "               embeddings_freq=1),\n",
    "   keras.callbacks.LambdaCallback(on_epoch_end=log_confusion_matrix)\n",
    "]\n",
    "\n",
    "model.fit(X_train, y_train,\n",
    "          epochs=10,\n",
    "          validation_split=0.2,\n",
    "          callbacks=callbacks)"
   ]
  },
  {
   "cell_type": "markdown",
   "id": "excited-passing",
   "metadata": {},
   "source": [
    "Now run TensorBoard and check the confusion matrix on the Images tab. \n",
    "\n"
   ]
  },
  {
   "cell_type": "code",
   "execution_count": 42,
   "id": "competitive-hampshire",
   "metadata": {},
   "outputs": [
    {
     "data": {
      "text/html": [
       "\n",
       "      <iframe id=\"tensorboard-frame-a4ae2a9e2b14a19f\" width=\"100%\" height=\"800\" frameborder=\"0\">\n",
       "      </iframe>\n",
       "      <script>\n",
       "        (function() {\n",
       "          const frame = document.getElementById(\"tensorboard-frame-a4ae2a9e2b14a19f\");\n",
       "          const url = new URL(\"/\", window.location);\n",
       "          const port = 6006;\n",
       "          if (port) {\n",
       "            url.port = port;\n",
       "          }\n",
       "          frame.src = url;\n",
       "        })();\n",
       "      </script>\n",
       "    "
      ],
      "text/plain": [
       "<IPython.core.display.HTML object>"
      ]
     },
     "metadata": {},
     "output_type": "display_data"
    }
   ],
   "source": [
    "%tensorboard --logdir logs"
   ]
  }
 ],
 "metadata": {
  "kernelspec": {
   "display_name": "Python 3",
   "language": "python",
   "name": "python3"
  },
  "language_info": {
   "codemirror_mode": {
    "name": "ipython",
    "version": 3
   },
   "file_extension": ".py",
   "mimetype": "text/x-python",
   "name": "python",
   "nbconvert_exporter": "python",
   "pygments_lexer": "ipython3",
   "version": "3.7.9"
  }
 },
 "nbformat": 4,
 "nbformat_minor": 5
}
